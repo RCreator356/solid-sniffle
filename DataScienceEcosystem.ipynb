{
 "cells": [
  {
   "cell_type": "markdown",
   "id": "1adfba7c-1e21-4faa-ae2a-7537331f8d3b",
   "metadata": {
    "tags": []
   },
   "source": [
    "# Data Science Tools and Ecosystem"
   ]
  },
  {
   "cell_type": "markdown",
   "id": "b0fe116e-6d17-4007-ba05-04252a40b5dd",
   "metadata": {},
   "source": [
    "In this notebook, Data Science Tools and Ecosystem are summarized."
   ]
  },
  {
   "cell_type": "markdown",
   "id": "9382e9d7-551a-47fa-a5c2-6e00cc99ee7d",
   "metadata": {},
   "source": [
    "**Objectives**\n",
    "* Intro to Jupyter Lab\n",
    "* Python coding\n",
    "* Covering Data Science Tools"
   ]
  },
  {
   "cell_type": "markdown",
   "id": "745c5023-9038-4332-b287-79f89a71b2fc",
   "metadata": {},
   "source": [
    "Some of the popular languages that Data Scientist use are:\n",
    "1. Python\n",
    "2. SQL\n",
    "3. R\n",
    "4. Julia\n",
    "5. JavaScript\n",
    "6. Scala\n"
   ]
  },
  {
   "cell_type": "markdown",
   "id": "aefb1404-080c-4850-86bc-fa5dcfc960d4",
   "metadata": {},
   "source": [
    "Some of the commonly used libraries used by Data Scientists include:\n",
    "1. Pandas\n",
    "2. NumPy\n",
    "3. Matplotlib\n",
    "4. Seaborn"
   ]
  },
  {
   "cell_type": "markdown",
   "id": "53736bae-23dd-4ae8-a506-7f333ca1755e",
   "metadata": {
    "tags": []
   },
   "source": [
    "| Data Science Tools |\n",
    "|--------------------|"
   ]
  },
  {
   "cell_type": "markdown",
   "id": "7b61e2e6-f325-48e9-8259-ecd82c5e8482",
   "metadata": {},
   "source": [
    "### Below are a few examples of evaluating arithmetic expressions in Python"
   ]
  },
  {
   "cell_type": "code",
   "execution_count": 16,
   "id": "cc86d2b9-4dcc-4eb1-bcdd-a2703c9c9d53",
   "metadata": {},
   "outputs": [
    {
     "data": {
      "text/plain": [
       "17"
      ]
     },
     "execution_count": 16,
     "metadata": {},
     "output_type": "execute_result"
    }
   ],
   "source": [
    "# This is a simple arithmetic expression to mutiply then add integers\n",
    "\n",
    "(3*4)+5"
   ]
  },
  {
   "cell_type": "code",
   "execution_count": 37,
   "id": "b79ae8a1-65c3-4f21-8132-da8aabcc7c0b",
   "metadata": {
    "tags": []
   },
   "outputs": [
    {
     "data": {
      "text/plain": [
       "3.33"
      ]
     },
     "execution_count": 37,
     "metadata": {},
     "output_type": "execute_result"
    }
   ],
   "source": [
    "# This will convert 200 minutes to hours by diving by 60\n",
    "\n",
    "round(200/60,2)\n"
   ]
  },
  {
   "cell_type": "markdown",
   "id": "6b1732e6-8f98-4eca-bb4c-00fb16da8623",
   "metadata": {},
   "source": [
    "## Author \n",
    " Ruben"
   ]
  },
  {
   "cell_type": "code",
   "execution_count": null,
   "id": "bad7a8ec-297d-4a57-a870-a951fd74b948",
   "metadata": {},
   "outputs": [],
   "source": []
  }
 ],
 "metadata": {
  "kernelspec": {
   "display_name": "Python",
   "language": "python",
   "name": "conda-env-python-py"
  },
  "language_info": {
   "codemirror_mode": {
    "name": "ipython",
    "version": 3
   },
   "file_extension": ".py",
   "mimetype": "text/x-python",
   "name": "python",
   "nbconvert_exporter": "python",
   "pygments_lexer": "ipython3",
   "version": "3.7.12"
  }
 },
 "nbformat": 4,
 "nbformat_minor": 5
}
